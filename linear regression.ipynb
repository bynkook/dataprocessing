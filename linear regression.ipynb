{
 "cells": [
  {
   "cell_type": "markdown",
   "id": "0f566073",
   "metadata": {},
   "source": [
    "2025 이패스 AICE 페이지 278 선형회귀 모델 실습"
   ]
  },
  {
   "cell_type": "code",
   "execution_count": null,
   "id": "259ee5f4",
   "metadata": {},
   "outputs": [],
   "source": [
    "# 1. 라이브러리 불러오기\n",
    "import pandas as pd\n",
    "from sklearn.model_selection import train_test_split\n",
    "from sklearn.linear_model import LinearRegression\n",
    "from sklearn.metrics import mean_squared_error, r2_score"
   ]
  },
  {
   "cell_type": "code",
   "execution_count": null,
   "id": "bad973a0",
   "metadata": {},
   "outputs": [],
   "source": [
    "# 2. 데이터 로드\n",
    "df = pd.read_csv(\"winequality-white.csv\", sep=\",\")"
   ]
  },
  {
   "cell_type": "code",
   "execution_count": null,
   "id": "386b4890",
   "metadata": {},
   "outputs": [],
   "source": [
    "#   2.1 결측치 확인\n",
    "print(df.isnull().sum())"
   ]
  },
  {
   "cell_type": "code",
   "execution_count": null,
   "id": "1ee02a80",
   "metadata": {},
   "outputs": [],
   "source": [
    "# 3. 입력(X), 출력(Y) 분리\n",
    "X = df.drop(['quality','alcohol'], axis=1)\n",
    "Y = df['quality']\n",
    "print(X.head())\n",
    "print(Y.head())"
   ]
  },
  {
   "cell_type": "code",
   "execution_count": null,
   "id": "73005bd3",
   "metadata": {},
   "outputs": [],
   "source": [
    "# 4. 데이터 분리\n",
    "X_train, X_test, Y_train, Y_test = train_test_split(X, Y, test_size = 0.2, random_state = 42)"
   ]
  },
  {
   "cell_type": "code",
   "execution_count": null,
   "id": "ce553fb5",
   "metadata": {},
   "outputs": [],
   "source": [
    "# 5. 모델 생성 및 학습\n",
    "model = LinearRegression()\n",
    "model.fit(X_train, Y_train)"
   ]
  },
  {
   "cell_type": "code",
   "execution_count": null,
   "id": "8d631801",
   "metadata": {},
   "outputs": [],
   "source": [
    "# 6. 테스트 데이터로 예측값 생성\n",
    "Y_pred = model.predict(X_test)"
   ]
  },
  {
   "cell_type": "code",
   "execution_count": null,
   "id": "28fc4257",
   "metadata": {},
   "outputs": [],
   "source": [
    "# 7. 모델 평가\n",
    "# 값 입력시 순서 주의(실제값, 예측값)\n",
    "mse = mean_squared_error(Y_test, Y_pred)\n",
    "r2 = r2_score(Y_test, Y_pred)\n",
    "print(\"Mean Squared Error: \", mse)\n",
    "print(\"R2 Score: \", r2)"
   ]
  }
 ],
 "metadata": {
  "kernelspec": {
   "display_name": "Python 3",
   "language": "python",
   "name": "python3"
  },
  "language_info": {
   "codemirror_mode": {
    "name": "ipython",
    "version": 3
   },
   "file_extension": ".py",
   "mimetype": "text/x-python",
   "name": "python",
   "nbconvert_exporter": "python",
   "pygments_lexer": "ipython3",
   "version": "3.12.10"
  }
 },
 "nbformat": 4,
 "nbformat_minor": 5
}
